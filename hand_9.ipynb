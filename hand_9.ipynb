{
 "cells": [
  {
   "cell_type": "code",
   "execution_count": 1,
   "metadata": {
    "collapsed": true
   },
   "outputs": [],
   "source": [
    "import os\n",
    "import pickle\n",
    "import numpy as np\n",
    "import xml.etree.ElementTree as ET\n",
    "import random\n",
    "import svgwrite\n",
    "from IPython.display import SVG, display\n",
    "import tensorflow as tf\n",
    "import time\n",
    "import matplotlib.pyplot as plt\n",
    "%matplotlib inline\n",
    "plt.rcParams['figure.figsize'] = (10.0, 8.0) # set default size of plots\n",
    "plt.rcParams['image.interpolation'] = 'nearest'\n",
    "plt.rcParams['image.cmap'] = 'gray'\n",
    "\n",
    "# for auto-reloading external modules\n",
    "# see http://stackoverflow.com/questions/1907993/autoreload-of-modules-in-ipython\n",
    "%load_ext autoreload\n",
    "%autoreload 2\n",
    "\n",
    "from utils import *\n",
    "from sample import *"
   ]
  },
  {
   "cell_type": "code",
   "execution_count": 4,
   "metadata": {
    "collapsed": true
   },
   "outputs": [],
   "source": [
    "class FakeArgParse():\n",
    "    def __init__(self):\n",
    "        pass\n",
    "args = FakeArgParse()\n",
    "\n",
    "args.train = False\n",
    "\n",
    "args.rnn_size = 100\n",
    "args.tsteps = 250\n",
    "args.nmixtures = 6\n",
    "\n",
    "args.kmixtures = 2\n",
    "args.alphabet = ' abcdefghijklmnopqrstuvwxyzABCDEFGHIJKLMNOPQRSTUVWXYZ'\n",
    "args.tsteps_per_ascii = 25\n",
    "\n",
    "args.batch_size = 1\n",
    "args.nepochs = 250\n",
    "args.dropout = 0.8\n",
    "args.nbatches = 500\n",
    "\n",
    "args.grad_clip = 10\n",
    "args.learning_rate = 1e-4\n",
    "args.lr_decay = 0.95\n",
    "\n",
    "args.data_scale = 20\n",
    "args.data_dir = './data'\n",
    "args.log_dir = './output/'\n",
    "args.save_path = './output/d4/model'\n",
    "args.save_every = 50\n",
    "\n",
    "args.text = ''\n",
    "args.bias = 0\n",
    "args.style = -1\n",
    "args.optimizer = 'rmsprop'\n",
    "args.decay = 0.95\n",
    "args.momentum = 0.9"
   ]
  },
  {
   "cell_type": "code",
   "execution_count": 5,
   "metadata": {
    "collapsed": true
   },
   "outputs": [],
   "source": [
    "class Model():\n",
    "    def __init__(self, args):\n",
    "        tf.reset_default_graph()\n",
    "\n",
    "        self.rnn_size = args.rnn_size\n",
    "        self.train = args.train\n",
    "        self.nmixtures = args.nmixtures\n",
    "        self.kmixtures = args.kmixtures\n",
    "        self.batch_size = args.batch_size if self.train else 1 # training/sampling specific\n",
    "        self.tsteps = args.tsteps if self.train else 1 # training/sampling specific\n",
    "        self.alphabet = args.alphabet\n",
    "        # training params\n",
    "        self.dropout = args.dropout\n",
    "        self.grad_clip = args.grad_clip\n",
    "        # misc\n",
    "        self.tsteps_per_ascii = args.tsteps_per_ascii\n",
    "        self.data_dir = args.data_dir\n",
    "\n",
    "        self.graves_initializer = tf.truncated_normal_initializer(mean=0., stddev=.075, seed=None, dtype=tf.float32)\n",
    "        self.window_b_initializer = tf.truncated_normal_initializer(mean=-3.0, stddev=.25, seed=None, dtype=tf.float32) # hacky initialization\n",
    "\n",
    "        self.char_vec_len = len(self.alphabet) + 1 #plus one for <UNK> token\n",
    "        self.ascii_steps = args.tsteps/args.tsteps_per_ascii\n",
    "\n",
    "\n",
    "        # ----- build the basic recurrent network architecture\n",
    "        cell_func = tf.contrib.rnn.LSTMCell # could be GRUCell or RNNCell\n",
    "        self.cell0 = cell_func(args.rnn_size, state_is_tuple=True, initializer=self.graves_initializer)\n",
    "        self.cell1 = cell_func(args.rnn_size, state_is_tuple=True, initializer=self.graves_initializer)\n",
    "        self.cell2 = cell_func(args.rnn_size, state_is_tuple=True, initializer=self.graves_initializer)\n",
    "\n",
    "        if (self.train and self.dropout < 1): # training mode\n",
    "            self.cell0 = tf.contrib.rnn.DropoutWrapper(self.cell0, output_keep_prob = self.dropout)\n",
    "            self.cell1 = tf.contrib.rnn.DropoutWrapper(self.cell1, output_keep_prob = self.dropout)\n",
    "            self.cell2 = tf.contrib.rnn.DropoutWrapper(self.cell2, output_keep_prob = self.dropout)\n",
    "\n",
    "        self.input_data = tf.placeholder(dtype=tf.float32, shape=[None, self.tsteps, 3])\n",
    "        self.target_data = tf.placeholder(dtype=tf.float32, shape=[None, self.tsteps, 3])\n",
    "        self.istate_cell0 = self.cell0.zero_state(batch_size=self.batch_size, dtype=tf.float32)\n",
    "        self.istate_cell1 = self.cell1.zero_state(batch_size=self.batch_size, dtype=tf.float32)\n",
    "        self.istate_cell2 = self.cell2.zero_state(batch_size=self.batch_size, dtype=tf.float32)\n",
    "\n",
    "        #slice the input volume into separate vols for each tstep\n",
    "        inputs = [tf.squeeze(input_, [1]) for input_ in tf.split(self.input_data, self.tsteps, 1)]\n",
    "        #build cell0 computational graph\n",
    "        outs_cell0, self.fstate_cell0 = tf.contrib.legacy_seq2seq.rnn_decoder(inputs, self.istate_cell0, self.cell0, loop_function=None, scope='cell0')\n",
    "\n",
    "\n",
    "        # ----- build the gaussian character window\n",
    "        def get_window(alpha, beta, kappa, c):\n",
    "            # phi -> [? x 1 x ascii_steps] and is a tf matrix\n",
    "            # c -> [? x ascii_steps x alphabet] and is a tf matrix\n",
    "            ascii_steps = c.get_shape()[1].value #number of items in sequence\n",
    "            phi = get_phi(ascii_steps, alpha, beta, kappa)\n",
    "            window = tf.matmul(phi,c)\n",
    "            window = tf.squeeze(window, [1]) # window ~ [?,alphabet]\n",
    "            return window, phi\n",
    "\n",
    "        #get phi for all t,u (returns a [1 x tsteps] matrix) that defines the window\n",
    "        def get_phi(ascii_steps, alpha, beta, kappa):\n",
    "            # alpha, beta, kappa -> [?,kmixtures,1] and each is a tf variable\n",
    "            u = np.linspace(0,ascii_steps-1,ascii_steps) # weight all the U items in the sequence\n",
    "            kappa_term = tf.square( tf.subtract(kappa,u))\n",
    "            exp_term = tf.multiply(-beta,kappa_term)\n",
    "            phi_k = tf.multiply(alpha, tf.exp(exp_term))\n",
    "            phi = tf.reduce_sum(phi_k,1, keep_dims=True)\n",
    "            return phi # phi ~ [?,1,ascii_steps]\n",
    "\n",
    "        def get_window_params(i, out_cell0, kmixtures, prev_kappa, reuse=True):\n",
    "            hidden = out_cell0.get_shape()[1]\n",
    "            n_out = 3*kmixtures\n",
    "            with tf.variable_scope('window',reuse=reuse):\n",
    "                window_w = tf.get_variable(\"window_w\", [hidden, n_out], initializer=self.graves_initializer)\n",
    "                window_b = tf.get_variable(\"window_b\", [n_out], initializer=self.window_b_initializer)\n",
    "            abk_hats = tf.nn.xw_plus_b(out_cell0, window_w, window_b) # abk_hats ~ [?,n_out]\n",
    "            abk = tf.exp(tf.reshape(abk_hats, [-1, 3*kmixtures,1])) # abk_hats ~ [?,n_out] = \"alpha, beta, kappa hats\"\n",
    "\n",
    "            alpha, beta, kappa = tf.split(abk, 3, 1) # alpha_hat, etc ~ [?,kmixtures]\n",
    "            kappa = kappa + prev_kappa\n",
    "            return alpha, beta, kappa # each ~ [?,kmixtures,1]\n",
    "\n",
    "        self.init_kappa = tf.placeholder(dtype=tf.float32, shape=[None, self.kmixtures, 1])\n",
    "        self.char_seq = tf.placeholder(dtype=tf.float32, shape=[None, self.ascii_steps, self.char_vec_len])\n",
    "        prev_kappa = self.init_kappa\n",
    "\n",
    "        reuse = False\n",
    "        #add gaussian window result\n",
    "        for i in range(len(outs_cell0)):\n",
    "            [alpha, beta, new_kappa] = get_window_params(i, outs_cell0[i], self.kmixtures, prev_kappa, reuse=reuse)\n",
    "            window, phi = get_window(alpha, beta, new_kappa, self.char_seq)\n",
    "            outs_cell0[i] = tf.concat((outs_cell0[i],window), 1) #concat outputs\n",
    "            outs_cell0[i] = tf.concat((outs_cell0[i],inputs[i]), 1) #concat input data\n",
    "            prev_kappa = new_kappa\n",
    "            reuse = True\n",
    "\n",
    "        #save some attention mechanism params (useful for sampling/debugging later)\n",
    "        self.window = window\n",
    "        self.phi = phi\n",
    "        self.new_kappa = new_kappa\n",
    "        self.alpha = alpha\n",
    "\n",
    "        # ----- finish building LSTMs 2 and 3\n",
    "        outs_cell1, self.fstate_cell1 = tf.contrib.legacy_seq2seq.rnn_decoder(outs_cell0, self.istate_cell1, self.cell1, loop_function=None, scope='cell1')\n",
    "\n",
    "        outs_cell2, self.fstate_cell2 = tf.contrib.legacy_seq2seq.rnn_decoder(outs_cell1, self.istate_cell2, self.cell2, loop_function=None, scope='cell2')\n",
    "\n",
    "        n_out = 1 + self.nmixtures * 6 # params = end_of_stroke + 6 parameters per Gaussian\n",
    "        with tf.variable_scope('mdn_dense'):\n",
    "            mdn_w = tf.get_variable(\"output_w\", [self.rnn_size, n_out], initializer=self.graves_initializer)\n",
    "            mdn_b = tf.get_variable(\"output_b\", [n_out], initializer=self.graves_initializer)\n",
    "\n",
    "        out_cell2 = tf.reshape(tf.concat(outs_cell2, 1), [-1, args.rnn_size]) #concat outputs for efficiency\n",
    "        output = tf.nn.xw_plus_b(out_cell2, mdn_w, mdn_b) #data flows through dense nn\n",
    "\n",
    "        # ----- build mixture density cap on top of second recurrent cell\n",
    "        def gaussian2d(x1, x2, mu1, mu2, s1, s2, rho):\n",
    "            # define gaussian mdn (eq 24, 25 from http://arxiv.org/abs/1308.0850)\n",
    "            x_mu1 = tf.subtract(x1, mu1)\n",
    "            x_mu2 = tf.subtract(x2, mu2)\n",
    "            Z = tf.square(tf.div(x_mu1, s1)) + \\\n",
    "                tf.square(tf.div(x_mu2, s2)) - \\\n",
    "                2*tf.div(tf.multiply(rho, tf.multiply(x_mu1, x_mu2)), tf.multiply(s1, s2))\n",
    "            rho_square_term = 1-tf.square(rho)\n",
    "            power_e = tf.exp(tf.div(-Z,2*rho_square_term))\n",
    "            regularize_term = 2*np.pi*tf.multiply(tf.multiply(s1, s2), tf.sqrt(rho_square_term))\n",
    "            gaussian = tf.div(power_e, regularize_term)\n",
    "            return gaussian\n",
    "\n",
    "        def get_loss(pi, x1_data, x2_data, eos_data, mu1, mu2, sigma1, sigma2, rho, eos):\n",
    "            # define loss function (eq 26 of http://arxiv.org/abs/1308.0850)\n",
    "            gaussian = gaussian2d(x1_data, x2_data, mu1, mu2, sigma1, sigma2, rho)\n",
    "            term1 = tf.multiply(gaussian, pi)\n",
    "            term1 = tf.reduce_sum(term1, 1, keep_dims=True) #do inner summation\n",
    "            term1 = -tf.log(tf.maximum(term1, 1e-20)) # some errors are zero -> numerical errors.\n",
    "\n",
    "            term2 = tf.multiply(eos, eos_data) + tf.multiply(1-eos, 1-eos_data) #modified Bernoulli -> eos probability\n",
    "            term2 = -tf.log(term2) #negative log error gives loss\n",
    "\n",
    "            return tf.reduce_sum(term1 + term2) #do outer summation\n",
    "\n",
    "        # now transform dense NN outputs into params for MDN\n",
    "        def get_mdn_coef(Z):\n",
    "            # returns the tf slices containing mdn dist params (eq 18...23 of http://arxiv.org/abs/1308.0850)\n",
    "            eos_hat = Z[:, 0:1] #end of sentence tokens\n",
    "            pi_hat, mu1_hat, mu2_hat, sigma1_hat, sigma2_hat, rho_hat = tf.split(Z[:, 1:], 6, 1)\n",
    "            self.pi_hat, self.sigma1_hat, self.sigma2_hat = \\\n",
    "                pi_hat, sigma1_hat, sigma2_hat # these are useful for bias method during sampling\n",
    "\n",
    "            eos = tf.sigmoid(-1*eos_hat) # technically we gained a negative sign\n",
    "            pi = tf.nn.softmax(pi_hat) # softmax z_pi:\n",
    "            mu1 = mu1_hat; mu2 = mu2_hat # leave mu1, mu2 as they are\n",
    "            sigma1 = tf.exp(sigma1_hat); sigma2 = tf.exp(sigma2_hat) # exp for sigmas\n",
    "            rho = tf.tanh(rho_hat) # tanh for rho (squish between -1 and 1)rrr\n",
    "            print 'mu1', mu1\n",
    "            print 'eos', eos\n",
    "\n",
    "            return [eos, pi, mu1, mu2, sigma1, sigma2, rho]\n",
    "\n",
    "        # reshape target data (as we did the input data)\n",
    "        flat_target_data = tf.reshape(self.target_data,[-1, 3])\n",
    "        [x1_data, x2_data, eos_data] = tf.split(flat_target_data, 3, 1) #we might as well split these now\n",
    "\n",
    "        [self.eos, self.pi, self.mu1, self.mu2, self.sigma1, self.sigma2, self.rho] = get_mdn_coef(output)\n",
    "\n",
    "        print 'x1_data', x1_data\n",
    "\n",
    "        loss = get_loss(self.pi, x1_data, x2_data, eos_data, self.mu1, self.mu2, self.sigma1, self.sigma2, self.rho, self.eos)\n",
    "        self.cost = loss / (self.batch_size * self.tsteps)\n",
    "\n",
    "        self.learning_rate = tf.Variable(0.0, trainable=False)\n",
    "        self.decay = tf.Variable(0.0, trainable=False)\n",
    "        self.momentum = tf.Variable(0.0, trainable=False)\n",
    "\n",
    "        if args.optimizer == 'adam':\n",
    "            self.optimizer = tf.train.AdamOptimizer(learning_rate=self.learning_rate)\n",
    "        elif args.optimizer == 'rmsprop':\n",
    "            self.optimizer = tf.train.RMSPropOptimizer(learning_rate=self.learning_rate, decay=self.decay, momentum=self.momentum)\n",
    "        else:\n",
    "            raise ValueError(\"Optimizer type not recognized\")\n",
    "\n",
    "        tvars = tf.trainable_variables()\n",
    "        grads, _ = tf.clip_by_global_norm(tf.gradients(self.cost, tvars), self.grad_clip)\n",
    "\n",
    "        self.train_op = self.optimizer.apply_gradients(zip(grads, tvars))\n",
    "\n",
    "        # ----- some TensorFlow I/O\n",
    "        self.sess = tf.InteractiveSession()\n",
    "        self.saver = tf.train.Saver(tf.global_variables())\n",
    "        self.sess.run(tf.global_variables_initializer())\n",
    "\n",
    "    def try_load_model(self, save_path):\n",
    "        load_was_success = True # yes, I'm being optimistic\n",
    "        global_step = 0\n",
    "        try:\n",
    "            save_dir = '/'.join(save_path.split('/')[:-1])\n",
    "            ckpt = tf.train.get_checkpoint_state(save_dir)\n",
    "            load_path = ckpt.model_checkpoint_path\n",
    "            self.saver.restore(self.sess, load_path)\n",
    "        except:\n",
    "            print (\"no saved model to load. starting new session\")\n",
    "            load_was_success = False\n",
    "        else:\n",
    "            print (\"loaded model: {}\".format(load_path))\n",
    "            self.saver = tf.train.Saver(tf.global_variables())\n",
    "            #global_step = int(load_path.split('-')[-1])\n",
    "        return load_was_success, global_step"
   ]
  },
  {
   "cell_type": "code",
   "execution_count": 4,
   "metadata": {
    "collapsed": true
   },
   "outputs": [],
   "source": [
    "def train_model(args):\n",
    "    logger = Logger(args) # make logging utility\n",
    "    logger.write(\"\\nTRAINING MODE...\")\n",
    "    logger.write(\"{}\\n\".format(args))\n",
    "    logger.write(\"loading data...\")\n",
    "    data_loader = DataLoader(args, logger=logger)\n",
    "\n",
    "    logger.write(\"building model...\")\n",
    "    model = Model(args)\n",
    "\n",
    "    v_x, v_y, v_s, v_c = data_loader.validation_data()\n",
    "    valid_inputs = {model.input_data: v_x, model.target_data: v_y, model.char_seq: v_c}\n",
    "\n",
    "    logger.write(\"training...\")\n",
    "    model.sess.run(tf.assign(model.decay, args.decay ))\n",
    "    model.sess.run(tf.assign(model.momentum, args.momentum ))\n",
    "    for e in range(args.nepochs):\n",
    "        model.sess.run(tf.assign(model.learning_rate, args.learning_rate * (args.lr_decay ** e)))\n",
    "        logger.write(\"learning rate: {}\".format(model.learning_rate.eval()))\n",
    "\n",
    "        c0, c1, c2 = model.istate_cell0.c.eval(), model.istate_cell1.c.eval(), model.istate_cell2.c.eval()\n",
    "        h0, h1, h2 = model.istate_cell0.h.eval(), model.istate_cell1.h.eval(), model.istate_cell2.h.eval()\n",
    "        kappa = np.zeros((args.batch_size, args.kmixtures, 1))\n",
    "\n",
    "        for b in range(args.nbatches):\n",
    "\n",
    "            i = e * args.nbatches + b\n",
    "\n",
    "            if i % args.save_every == 0 and (i > 0):\n",
    "                model.saver.save(model.sess, args.save_path) ; logger.write('SAVED MODEL')\n",
    "                with open(args.log_dir + '/checkpoint', \"w\") as raw:\n",
    "                    raw.write('model_checkpoint_path: \"model\"\\nall_model_checkpoint_paths: \"model\"')\n",
    "\n",
    "            start = time.time()\n",
    "            x, y, s, c = data_loader.next_batch()\n",
    "\n",
    "            feed = {model.input_data: x, model.target_data: y, model.char_seq: c, model.init_kappa: kappa, \\\n",
    "              model.istate_cell0.c: c0, model.istate_cell1.c: c1, model.istate_cell2.c: c2, \\\n",
    "              model.istate_cell0.h: h0, model.istate_cell1.h: h1, model.istate_cell2.h: h2}\n",
    "\n",
    "            [train_loss, _] = model.sess.run([model.cost, model.train_op], feed)\n",
    "\n",
    "            end = time.time()\n",
    "            if i % 10 is 0: logger.write(\"{}/{}, loss = {:.3f}, time = {:.3f}\" \\\n",
    "                .format(i, args.nepochs * args.nbatches, train_loss, end - start) )\n"
   ]
  },
  {
   "cell_type": "code",
   "execution_count": null,
   "metadata": {
    "collapsed": true
   },
   "outputs": [],
   "source": [
    "train_model(args)"
   ]
  },
  {
   "cell_type": "code",
   "execution_count": 6,
   "metadata": {
    "collapsed": false
   },
   "outputs": [
    {
     "name": "stdout",
     "output_type": "stream",
     "text": [
      "\n",
      "SAMPLING MODE...\n",
      "loading data...\n",
      "building model...\n",
      "mu1 Tensor(\"split_3:1\", shape=(1, 6), dtype=float32)\n",
      "eos Tensor(\"Sigmoid:0\", shape=(1, 1), dtype=float32)\n",
      "x1_data Tensor(\"split_2:0\", shape=(?, 1), dtype=float32)\n"
     ]
    }
   ],
   "source": [
    "#load model\n",
    "logger = Logger(args)\n",
    "logger.write(\"\\nSAMPLING MODE...\")\n",
    "logger.write(\"loading data...\")\n",
    "logger.write(\"building model...\")\n",
    "model = Model(args)"
   ]
  },
  {
   "cell_type": "code",
   "execution_count": 7,
   "metadata": {
    "collapsed": false
   },
   "outputs": [
    {
     "name": "stdout",
     "output_type": "stream",
     "text": [
      "attempt to load saved model...\n",
      "INFO:tensorflow:Restoring parameters from ./output/d4/model\n"
     ]
    },
    {
     "name": "stderr",
     "output_type": "stream",
     "text": [
      "INFO:tensorflow:Restoring parameters from ./output/d4/model\n"
     ]
    },
    {
     "name": "stdout",
     "output_type": "stream",
     "text": [
      "no saved model to load. starting new session\n"
     ]
    }
   ],
   "source": [
    "logger.write(\"attempt to load saved model...\")\n",
    "load_was_success, global_step = model.try_load_model(args.save_path)"
   ]
  },
  {
   "cell_type": "code",
   "execution_count": 37,
   "metadata": {
    "collapsed": true
   },
   "outputs": [],
   "source": [
    "def sample_model(args, model, logger=None):\n",
    "    if args.text == '':\n",
    "        strings = ['Gaurav Gupta'] # test strings\n",
    "    else:\n",
    "        strings = [args.text]\n",
    "\n",
    "    if True:\n",
    "        for s in strings:\n",
    "            strokes, phis, windows, kappas = sample(s, model, args)\n",
    "\n",
    "            w_save_path = '{}figures/iter-{}-w-{}'.format(args.log_dir, global_step, s[:10].replace(' ', '_'))\n",
    "            g_save_path = '{}figures/iter-{}-g-{}'.format(args.log_dir, global_step, s[:10].replace(' ', '_'))\n",
    "            l_save_path = '{}figures/iter-{}-l-{}'.format(args.log_dir, global_step, s[:10].replace(' ', '_'))\n",
    "\n",
    "            window_plots(phis, windows, save_path=w_save_path)\n",
    "            gauss_plot(strokes, 'Heatmap for \"{}\"'.format(s), figsize = (2*len(s),4), save_path=g_save_path)\n",
    "            line_plot(strokes, 'Line plot for \"{}\"'.format(s), figsize = (len(s),2), save_path=l_save_path)\n",
    "\n",
    "            # make sure that kappas are reasonable\n",
    "            logger.write( \"kappas: \\n{}\".format(str(kappas[min(kappas.shape[0]-1, args.tsteps_per_ascii),:])) )\n",
    "    else:\n",
    "        logger.write(\"load failed, sampling canceled\")"
   ]
  },
  {
   "cell_type": "code",
   "execution_count": 40,
   "metadata": {
    "collapsed": false,
    "scrolled": true
   },
   "outputs": [
    {
     "name": "stdout",
     "output_type": "stream",
     "text": [
      "kappas: \n",
      "[ 1.91530049]\n"
     ]
    },
    {
     "data": {
      "image/png": "[encoded data removed]",
      "text/plain": [
       "<matplotlib.figure.Figure at 0x7f842af2a610>"
      ]
     },
     "metadata": {},
     "output_type": "display_data"
    },
    {
     "data": {
      "image/png": "[encoded data removed]",
      "text/plain": [
       "<matplotlib.figure.Figure at 0x7f842af0ac10>"
      ]
     },
     "metadata": {},
     "output_type": "display_data"
    },
    {
     "data": {
      "image/png": "[encoded data removed]",
      "text/plain": [
       "<matplotlib.figure.Figure at 0x7f842af0ab90>"
      ]
     },
     "metadata": {},
     "output_type": "display_data"
    }
   ],
   "source": [
    "sample_model(args, model, logger)"
   ]
  },
  {
   "cell_type": "code",
   "execution_count": null,
   "metadata": {
    "collapsed": true
   },
   "outputs": [],
   "source": []
  }
 ],
 "metadata": {
  "kernelspec": {
   "display_name": "Python 2",
   "language": "python",
   "name": "python2"
  },
  "language_info": {
   "codemirror_mode": {
    "name": "ipython",
    "version": 2
   },
   "file_extension": ".py",
   "mimetype": "text/x-python",
   "name": "python",
   "nbconvert_exporter": "python",
   "pygments_lexer": "ipython2",
   "version": "2.7.6"
  }
 },
 "nbformat": 4,
 "nbformat_minor": 0
}
